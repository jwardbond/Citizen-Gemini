{
 "cells": [
  {
   "cell_type": "markdown",
   "id": "c1d4d289-7ca7-47e6-bc88-71b8ed41f018",
   "metadata": {},
   "source": [
    "# City Hall Data Construction"
   ]
  },
  {
   "cell_type": "markdown",
   "id": "ef6faed6-2fc4-428d-a3b4-81861af820d7",
   "metadata": {},
   "source": [
    "## Setup"
   ]
  },
  {
   "cell_type": "code",
   "execution_count": 2,
   "id": "f0fb0ede-f0fa-4c3a-82eb-df27569baee3",
   "metadata": {},
   "outputs": [],
   "source": [
    "import re\n",
    "import json\n",
    "import bisect\n",
    "import requests\n",
    "import datetime\n",
    "from pathlib import Path\n",
    "\n",
    "import yt_dlp\n",
    "import ffmpeg\n",
    "import numpy as np\n",
    "import pandas as pd\n",
    "from bs4 import BeautifulSoup\n",
    "from tqdm.notebook import tqdm"
   ]
  },
  {
   "cell_type": "markdown",
   "id": "f6b6fdff-9cf9-4d0f-9260-b2dbc1bd6032",
   "metadata": {},
   "source": [
    "## Datacard"
   ]
  },
  {
   "cell_type": "markdown",
   "id": "2f0c4c2c-eddf-4ff6-896b-fd5c798b5039",
   "metadata": {},
   "source": [
    "- `meetingId`\n",
    "- `meetingCd`\n",
    "- `meetingStartDate`\n",
    "- `meetingEndDate`\n",
    "- `meetingSpecialFlag`\n",
    "- `meetingYear`: because sometime it is nicer to not have to use regex on meetingReference.\n",
    "- `meetingUrl`: (str) A url linking to the city council meeting agenda. e.g. [https://secure.toronto.ca/council/#/committees/2462/24406](https://secure.toronto.ca/council/#/committees/2462/24406)\n",
    "- `itemId`: known as agendaItemId in the City of Toronto internal meeting api.\n",
    "- `itemCd`: stored as year.item code to comply with other City of Toronto data sources. A combination of nativeTermYear and referenceNumber in the City of Toronto internal meeting api.\n",
    "- `itemCategory`: known as agendaSectionTitle in the City of Toronto internal meeting api.\n",
    "- `itemTitle`: known as agendaItemTitle in the City of Toronto internal meeting api.\n",
    "- `itemConsiderType`: known  as considerTypeCd in the City of Toronto internal meeting api.\n",
    "- `itemStatus`: known as itemStatus in the City of Toronto internal meeting api.\n",
    "- `itemNativeStatus`: known as nativeItemStatusCd in the City of Toronto internal meeting api.\n",
    "- `itemWards`: (str) known as wards in the City of Toronto internal meeting api. Its either \"All\", \"[ward #]\" or \"None\".\n",
    "- `itemInCameraFlag`: (bool) known as inCamera in the City of Toronto internal meeting api. True of the meeting was done *in camera*, False otherwise/\n",
    "- `itemStatutoryFlag`: (bool) known as statutory in the City of Toronto internal meeting api. True if the meeting is of type statutory (but idk what that means), False otherwise/\n",
    "- `itemConsiderStartTime`: (int) 0 if not considered (accepted by consensus before meeting), datetime in milliseconds otherwise\n",
    "- `itemUrl`: (str) A url linking to the agenda item notes. e.g. [https://secure.toronto.ca/council/agenda-item.do?item=2024.IA20.1](https://secure.toronto.ca/council/agenda-item.do?item=2024.IA20.1).\n",
    "- `itemVoteFlag`: (bool) True if the item had a vote associate with it, False otherwise\n",
    "- `itemVoteType`: (str) A brief summary of the vote type. Known as Motion Type in the City of Toronto voting record API\n",
    "- `itemVoteDescription`: (str) A longer description of the vote. Known as Vote Description in the City of Toronto voting record API\n",
    "- `itemVoteResult`: (str) A string describing if the vote was carried, and to what extent\n",
    "- `voteId`: (int) The id for the vote\n",
    "- `voterName`: (str) The name of the first voting (First Last)\n",
    "- `vote`: (str) The vote. \"Y\", \"N\", or \"A\" (Absent)."
   ]
  },
  {
   "cell_type": "markdown",
   "id": "a9477a69-9e70-4898-8ad6-92b1bc82d100",
   "metadata": {},
   "source": [
    "## Scraping \n",
    "### Meetings\n",
    "First, we need to get a list of all city council meetings for this session. To do this, we use the city's (undocumented) api. \n",
    "\n",
    "The first step is to get all the completed city council meetings for the current session. The \"decision body\" (current city council) is 2462."
   ]
  },
  {
   "cell_type": "code",
   "execution_count": 2,
   "id": "c24d30e6-1549-448e-991b-fba15181bf34",
   "metadata": {},
   "outputs": [],
   "source": [
    "# Scraping\n",
    "body = 2462\n",
    "response = requests.get(f\"https://secure.toronto.ca/council/api/multiple/meeting.json?decisionBodyId={body}\")\n",
    "meetings = response.json()\n",
    "\n",
    "meeting_data = []\n",
    "for meeting in meetings[\"Records\"]:\n",
    "    if meeting[\"mtgStatusCd\"] == \"COMPLETE\":\n",
    "        meeting_data.append(\n",
    "            (\n",
    "                meeting[\"meetingId\"],\n",
    "                meeting[\"meetingReference\"], # meetingCd\n",
    "                meeting[\"meetingDate\"], # meetingStartDate\n",
    "                meeting[\"meetingEndDate\"],\n",
    "                meeting[\"specialMeetingCd\"], # meetingSpecialFlag\n",
    "            )\n",
    "        )\n",
    "\n",
    "# Creating dataframe\n",
    "meeting_data = pd.DataFrame(meeting_data, \n",
    "                    columns = [\"meetingId\", \"meetingCd\", \"meetingStartDate\", \"meetingEndDate\", \"meetingSpecialFlag\"])\n",
    "\n",
    "# Converting meeting flag to boolean\n",
    "meeting_data[\"meetingSpecialFlag\"] = meeting_data[\"meetingSpecialFlag\"].map(lambda x: True if x!=\"N\" else False)\n",
    "\n",
    "# Creating URL to get meeting data\n",
    "meeting_data[\"meetingUrl\"] = meeting_data[\"meetingId\"].map(\n",
    "    lambda x: f\"https://secure.toronto.ca/council/api/individual/meeting/{x}.json\")\n",
    "\n",
    "# Creating a \"year\" column\n",
    "meeting_data[\"meetingYear\"] = meeting_data[\"meetingStartDate\"].map(\n",
    "    lambda dt: datetime.datetime.fromtimestamp(dt/1000).year\n",
    ")"
   ]
  },
  {
   "cell_type": "code",
   "execution_count": 3,
   "id": "f2abcae1-0f25-434d-be77-4777b55b60f2",
   "metadata": {},
   "outputs": [
    {
     "data": {
      "text/plain": [
       "23"
      ]
     },
     "metadata": {},
     "output_type": "display_data"
    },
    {
     "data": {
      "text/html": [
       "<div>\n",
       "<style scoped>\n",
       "    .dataframe tbody tr th:only-of-type {\n",
       "        vertical-align: middle;\n",
       "    }\n",
       "\n",
       "    .dataframe tbody tr th {\n",
       "        vertical-align: top;\n",
       "    }\n",
       "\n",
       "    .dataframe thead th {\n",
       "        text-align: right;\n",
       "    }\n",
       "</style>\n",
       "<table border=\"1\" class=\"dataframe\">\n",
       "  <thead>\n",
       "    <tr style=\"text-align: right;\">\n",
       "      <th></th>\n",
       "      <th>meetingId</th>\n",
       "      <th>meetingCd</th>\n",
       "      <th>meetingStartDate</th>\n",
       "      <th>meetingEndDate</th>\n",
       "      <th>meetingSpecialFlag</th>\n",
       "      <th>meetingUrl</th>\n",
       "      <th>meetingYear</th>\n",
       "    </tr>\n",
       "  </thead>\n",
       "  <tbody>\n",
       "    <tr>\n",
       "      <th>0</th>\n",
       "      <td>24391</td>\n",
       "      <td>2024.CC23</td>\n",
       "      <td>1731474000000</td>\n",
       "      <td>1731560400000</td>\n",
       "      <td>False</td>\n",
       "      <td>https://secure.toronto.ca/council/api/individu...</td>\n",
       "      <td>2024</td>\n",
       "    </tr>\n",
       "    <tr>\n",
       "      <th>1</th>\n",
       "      <td>24390</td>\n",
       "      <td>2024.CC22</td>\n",
       "      <td>1728446400000</td>\n",
       "      <td>1728532800000</td>\n",
       "      <td>False</td>\n",
       "      <td>https://secure.toronto.ca/council/api/individu...</td>\n",
       "      <td>2024</td>\n",
       "    </tr>\n",
       "  </tbody>\n",
       "</table>\n",
       "</div>"
      ],
      "text/plain": [
       "   meetingId  meetingCd  meetingStartDate  meetingEndDate  meetingSpecialFlag  \\\n",
       "0      24391  2024.CC23     1731474000000   1731560400000               False   \n",
       "1      24390  2024.CC22     1728446400000   1728532800000               False   \n",
       "\n",
       "                                          meetingUrl  meetingYear  \n",
       "0  https://secure.toronto.ca/council/api/individu...         2024  \n",
       "1  https://secure.toronto.ca/council/api/individu...         2024  "
      ]
     },
     "execution_count": 3,
     "metadata": {},
     "output_type": "execute_result"
    }
   ],
   "source": [
    "display(len(meeting_data))\n",
    "meeting_data.head(2)"
   ]
  },
  {
   "cell_type": "markdown",
   "id": "4ea89999-3347-4272-9495-1b7decd51471",
   "metadata": {},
   "source": [
    "### Agenda Items"
   ]
  },
  {
   "cell_type": "markdown",
   "id": "acef7dbc-b567-477f-8e81-8265db329769",
   "metadata": {},
   "source": [
    "Once we have all the meetings, we need to pull out all the agenda items."
   ]
  },
  {
   "cell_type": "code",
   "execution_count": 4,
   "id": "f59e06cc-6ea4-4457-8d45-f1ed2d79f78b",
   "metadata": {},
   "outputs": [],
   "source": [
    "#meeting_data = meeting_data.sort_values(\"meetingStartDate\", ascending=False).iloc[0:3].copy()"
   ]
  },
  {
   "cell_type": "code",
   "execution_count": 5,
   "id": "13400265-8fa7-495b-85d6-1044991d2652",
   "metadata": {},
   "outputs": [
    {
     "name": "stdout",
     "output_type": "stream",
     "text": [
      "13\n"
     ]
    }
   ],
   "source": [
    "agenda_data = []\n",
    "for _, r in meeting_data.iterrows(): \n",
    "\n",
    "    # Get meeting data\n",
    "    response = requests.get(r[\"meetingUrl\"])\n",
    "    meeting = response.json()\n",
    "    \n",
    "    # Get agenda sections and items\n",
    "    for s in meeting[\"Record\"][\"sections\"]:\n",
    "        for i in s[\"agendaItems\"]:\n",
    "            agenda_data.append(\n",
    "                (\n",
    "                    r[\"meetingId\"],\n",
    "                    i[\"agendaItemId\"],  # itemId\n",
    "                    f\"{i[\"nativeTermYear\"]}.{i[\"referenceNumber\"]}\",  # itemCd\n",
    "                    s[\"agendaSectionTitle\"],  # itemCategory\n",
    "                    i[\"agendaItemTitle\"],  # itemTitle\n",
    "                    i[\"considerTypeCd\"],  # itemConsiderType\n",
    "                    i[\"itemStatusCd\"],  # itemStatus\n",
    "                    i[\"nativeItemStatusCd\"],  # itemNativeStatus\n",
    "                    i.get(\"wards\", \"None\"),  # itemWards\n",
    "                    i[\"inCamera\"],  # itemInCameraFlag\n",
    "                    i[\"statutory\"],  # itemSatutoryFlag\n",
    "                    i.get(\"considerStartTime\", 0),  # itemConsiderStartTime\n",
    "                    f\"https://secure.toronto.ca/council/agenda-item.do?item={i[\"nativeTermYear\"]}.{i[\"referenceNumber\"]}\" #  itemUrl\n",
    "                )\n",
    "            )\n",
    "print(len(agenda_data[0]))"
   ]
  },
  {
   "cell_type": "code",
   "execution_count": 6,
   "id": "f008d42c-08da-42c2-a0d0-1f54478c7809",
   "metadata": {},
   "outputs": [],
   "source": [
    "cols = [\n",
    "    \"meetingId\",\n",
    "    \"itemId\",\n",
    "    \"itemCd\",\n",
    "    \"itemCategory\",\n",
    "    \"itemTitle\",\n",
    "    \"itemConsiderType\",\n",
    "    \"itemStatus\",\n",
    "    \"itemNativeStatus\",\n",
    "    \"itemWards\",\n",
    "    \"itemInCameraFlag\",\n",
    "    \"itemStatutoryFlag\",\n",
    "    \"itemConsiderStartTime\",\n",
    "    \"itemUrl\",\n",
    "]\n",
    "\n",
    "agenda_data = pd.DataFrame(data=agenda_data, columns=cols)\n",
    "\n",
    "# Datatype cleaning\n",
    "agenda_data[\"itemInCameraFlag\"] = agenda_data[\"itemInCameraFlag\"].map(lambda x: True if x!=\"N\" else False)\n",
    "agenda_data[\"itemStatutoryFlag\"] = agenda_data[\"itemStatutoryFlag\"].map(lambda x: True if x!=\"N\" else False)"
   ]
  },
  {
   "cell_type": "code",
   "execution_count": 7,
   "id": "85bb536f-19cb-46e1-b867-18044b022955",
   "metadata": {},
   "outputs": [
    {
     "data": {
      "text/plain": [
       "2957"
      ]
     },
     "metadata": {},
     "output_type": "display_data"
    },
    {
     "data": {
      "text/html": [
       "<div>\n",
       "<style scoped>\n",
       "    .dataframe tbody tr th:only-of-type {\n",
       "        vertical-align: middle;\n",
       "    }\n",
       "\n",
       "    .dataframe tbody tr th {\n",
       "        vertical-align: top;\n",
       "    }\n",
       "\n",
       "    .dataframe thead th {\n",
       "        text-align: right;\n",
       "    }\n",
       "</style>\n",
       "<table border=\"1\" class=\"dataframe\">\n",
       "  <thead>\n",
       "    <tr style=\"text-align: right;\">\n",
       "      <th></th>\n",
       "      <th>meetingId</th>\n",
       "      <th>itemId</th>\n",
       "      <th>itemCd</th>\n",
       "      <th>itemCategory</th>\n",
       "      <th>itemTitle</th>\n",
       "      <th>itemConsiderType</th>\n",
       "      <th>itemStatus</th>\n",
       "      <th>itemNativeStatus</th>\n",
       "      <th>itemWards</th>\n",
       "      <th>itemInCameraFlag</th>\n",
       "      <th>itemStatutoryFlag</th>\n",
       "      <th>itemConsiderStartTime</th>\n",
       "      <th>itemUrl</th>\n",
       "    </tr>\n",
       "  </thead>\n",
       "  <tbody>\n",
       "    <tr>\n",
       "      <th>0</th>\n",
       "      <td>24391</td>\n",
       "      <td>136759</td>\n",
       "      <td>2024.RM23.1</td>\n",
       "      <td>Routine Matters</td>\n",
       "      <td>Call to Order</td>\n",
       "      <td>ACTION</td>\n",
       "      <td>ADOPTED</td>\n",
       "      <td>ADOPTED</td>\n",
       "      <td>All</td>\n",
       "      <td>False</td>\n",
       "      <td>False</td>\n",
       "      <td>1731508627000</td>\n",
       "      <td>https://secure.toronto.ca/council/agenda-item....</td>\n",
       "    </tr>\n",
       "    <tr>\n",
       "      <th>1</th>\n",
       "      <td>24391</td>\n",
       "      <td>136760</td>\n",
       "      <td>2024.RM23.2</td>\n",
       "      <td>Routine Matters</td>\n",
       "      <td>Confirmation of Minutes</td>\n",
       "      <td>ACTION</td>\n",
       "      <td>AMENDED</td>\n",
       "      <td>AMENDED</td>\n",
       "      <td>All</td>\n",
       "      <td>False</td>\n",
       "      <td>False</td>\n",
       "      <td>1731510676000</td>\n",
       "      <td>https://secure.toronto.ca/council/agenda-item....</td>\n",
       "    </tr>\n",
       "  </tbody>\n",
       "</table>\n",
       "</div>"
      ],
      "text/plain": [
       "   meetingId  itemId       itemCd     itemCategory                itemTitle  \\\n",
       "0      24391  136759  2024.RM23.1  Routine Matters            Call to Order   \n",
       "1      24391  136760  2024.RM23.2  Routine Matters  Confirmation of Minutes   \n",
       "\n",
       "  itemConsiderType itemStatus itemNativeStatus itemWards  itemInCameraFlag  \\\n",
       "0           ACTION    ADOPTED          ADOPTED       All             False   \n",
       "1           ACTION    AMENDED          AMENDED       All             False   \n",
       "\n",
       "   itemStatutoryFlag  itemConsiderStartTime  \\\n",
       "0              False          1731508627000   \n",
       "1              False          1731510676000   \n",
       "\n",
       "                                             itemUrl  \n",
       "0  https://secure.toronto.ca/council/agenda-item....  \n",
       "1  https://secure.toronto.ca/council/agenda-item....  "
      ]
     },
     "execution_count": 7,
     "metadata": {},
     "output_type": "execute_result"
    }
   ],
   "source": [
    "display(len(agenda_data))\n",
    "agenda_data.head(2)"
   ]
  },
  {
   "cell_type": "markdown",
   "id": "b4aa01fa-87ac-4561-ac8b-4b3d9334b711",
   "metadata": {},
   "source": [
    "### Votes"
   ]
  },
  {
   "cell_type": "code",
   "execution_count": 8,
   "id": "4f87314e-8162-4ad3-aaed-b2a6e096b06c",
   "metadata": {},
   "outputs": [],
   "source": [
    "base_url = \"https://ckan0.cf.opendata.inter.prod-toronto.ca\"\n",
    "url = base_url + \"/api/3/action/package_show\"\n",
    "params = { \"id\": \"members-of-toronto-city-council-voting-record\"}\n",
    "package = requests.get(url, params = params).json()\n",
    "\n",
    "# To get resource data:\n",
    "dfs = []\n",
    "meeting_years = meeting_data[\"meetingYear\"].unique()\n",
    "for idx, resource in enumerate(package[\"result\"][\"resources\"]):\n",
    "    \n",
    "    # Extract the years the resource covers\n",
    "    match = re.search(r\"(\\d{4}-\\d{4})\", resource[\"name\"])\n",
    "    if match: \n",
    "        years = match.group(0).split(\"-\")\n",
    "        years = list(range(int(years[0]), int(years[1])))\n",
    "\n",
    "        # Only interested in resources that cover years in our dataset\n",
    "        if (\n",
    "            any(y in meeting_years for y in years)\n",
    "            and resource[\"datastore_active\"]\n",
    "            and resource[\"format\"] == \"CSV\"\n",
    "        ):\n",
    "            url = base_url + \"/datastore/dump/\" + resource[\"id\"]\n",
    "            dfs.append(pd.read_csv(url))\n",
    "\n",
    "if len(dfs) > 0: \n",
    "    voting_data = pd.concat(dfs, ignore_index=True)\n",
    "else: \n",
    "    voting_data = None"
   ]
  },
  {
   "cell_type": "code",
   "execution_count": 9,
   "id": "cc5636e5-0f70-4a5b-9cf1-1f7061ade638",
   "metadata": {},
   "outputs": [],
   "source": [
    "# Cleaning the data\n",
    "voting_data[\"Full Name\"] = voting_data[\"First Name\"] + \" \" + voting_data[\"Last Name\"]\n",
    "voting_data[\"Vote\"] = voting_data[\"Vote\"].map(lambda v: v[0]) # Shorten to one character\n",
    "\n",
    "name_map = {\n",
    "    \"Agenda Item #\": \"itemCd\",\n",
    "    \"Motion Type\": \"itemVoteType\",\n",
    "    \"Vote Description\": \"itemVoteDescription\",\n",
    "    \"Result\": \"itemVoteResult\",\n",
    "    \"_id\": \"voteId\",\n",
    "    \"Full Name\": \"voterName\",   \n",
    "    \"Vote\": \"vote\",\n",
    "}\n",
    "voting_data = voting_data.rename(columns=name_map)\n",
    "voting_data = voting_data[name_map.values()]"
   ]
  },
  {
   "cell_type": "code",
   "execution_count": 10,
   "id": "eae560d1-d21e-4b08-9e5a-25761bdef537",
   "metadata": {},
   "outputs": [
    {
     "data": {
      "text/html": [
       "<div>\n",
       "<style scoped>\n",
       "    .dataframe tbody tr th:only-of-type {\n",
       "        vertical-align: middle;\n",
       "    }\n",
       "\n",
       "    .dataframe tbody tr th {\n",
       "        vertical-align: top;\n",
       "    }\n",
       "\n",
       "    .dataframe thead th {\n",
       "        text-align: right;\n",
       "    }\n",
       "</style>\n",
       "<table border=\"1\" class=\"dataframe\">\n",
       "  <thead>\n",
       "    <tr style=\"text-align: right;\">\n",
       "      <th></th>\n",
       "      <th>itemCd</th>\n",
       "      <th>itemVoteType</th>\n",
       "      <th>itemVoteDescription</th>\n",
       "      <th>itemVoteResult</th>\n",
       "      <th>voteId</th>\n",
       "      <th>voterName</th>\n",
       "      <th>vote</th>\n",
       "    </tr>\n",
       "  </thead>\n",
       "  <tbody>\n",
       "    <tr>\n",
       "      <th>0</th>\n",
       "      <td>2023.FM1.8</td>\n",
       "      <td>Nomination of a Member</td>\n",
       "      <td>Majority required - Appoint Councillor Nunziat...</td>\n",
       "      <td>Carried, 25-1</td>\n",
       "      <td>1</td>\n",
       "      <td>Brad Bradford</td>\n",
       "      <td>Y</td>\n",
       "    </tr>\n",
       "    <tr>\n",
       "      <th>1</th>\n",
       "      <td>2023.FM1.8</td>\n",
       "      <td>Nomination of a Member</td>\n",
       "      <td>Majority required - Appoint Councillor Nunziat...</td>\n",
       "      <td>Carried, 25-1</td>\n",
       "      <td>2</td>\n",
       "      <td>Alejandra Bravo</td>\n",
       "      <td>Y</td>\n",
       "    </tr>\n",
       "  </tbody>\n",
       "</table>\n",
       "</div>"
      ],
      "text/plain": [
       "       itemCd            itemVoteType  \\\n",
       "0  2023.FM1.8  Nomination of a Member   \n",
       "1  2023.FM1.8  Nomination of a Member   \n",
       "\n",
       "                                 itemVoteDescription itemVoteResult  voteId  \\\n",
       "0  Majority required - Appoint Councillor Nunziat...  Carried, 25-1       1   \n",
       "1  Majority required - Appoint Councillor Nunziat...  Carried, 25-1       2   \n",
       "\n",
       "         voterName vote  \n",
       "0    Brad Bradford    Y  \n",
       "1  Alejandra Bravo    Y  "
      ]
     },
     "execution_count": 10,
     "metadata": {},
     "output_type": "execute_result"
    }
   ],
   "source": [
    "voting_data.head(2)"
   ]
  },
  {
   "cell_type": "markdown",
   "id": "b799888a-6613-46c5-a459-65534d664489",
   "metadata": {},
   "source": [
    "### Combining Scraped Datasets"
   ]
  },
  {
   "cell_type": "markdown",
   "id": "b09fc9ab-7342-4a4b-a17b-0f481eabd53b",
   "metadata": {},
   "source": [
    "Heirarchy is meeting > agenda items > vote"
   ]
  },
  {
   "cell_type": "code",
   "execution_count": 11,
   "id": "732a2d25-011b-415b-82c6-0c9e4049380b",
   "metadata": {},
   "outputs": [],
   "source": [
    "# First merge the voting data with the agenda items\n",
    "merged = pd.merge(agenda_data, voting_data, how=\"left\", on=\"itemCd\")\n",
    "merged[\"itemVoteFlag\"] = merged[\"itemVoteType\"].isna()\n",
    "\n",
    "# Then merge with meeting data\n",
    "dataset = pd.merge(meeting_data, merged, how=\"left\", on=\"meetingId\")\n",
    "\n",
    "dataset = dataset[[\"meetingId\", \"meetingCd\", \"meetingStartDate\", \"meetingEndDate\", \"meetingSpecialFlag\", \"meetingYear\", \"meetingUrl\",\n",
    "                   \"itemId\", \"itemCd\", \"itemCategory\", \"itemTitle\", \"itemConsiderType\", \"itemStatus\", \"itemNativeStatus\",\n",
    "                   \"itemWards\", \"itemInCameraFlag\", \"itemStatutoryFlag\", \"itemConsiderStartTime\", \"itemUrl\", \"itemVoteFlag\",\n",
    "                   \"itemVoteType\", \"itemVoteDescription\", \"itemVoteResult\", \"voteId\", \"voterName\", \"vote\",]]\n"
   ]
  },
  {
   "cell_type": "markdown",
   "id": "7ac8c629-2a74-44b0-8929-127d9f16609c",
   "metadata": {},
   "source": [
    "Some quick sanity checks on the data would be useful. Note that not everything in the voting records is also in the agenda items: city councillors are often on subcomittees, and make votes on issues that don't ever appear before city council."
   ]
  },
  {
   "cell_type": "code",
   "execution_count": 12,
   "id": "91c8ca0d-ba35-44b4-8ea8-241984a3e217",
   "metadata": {},
   "outputs": [
    {
     "data": {
      "text/plain": [
       "23"
      ]
     },
     "metadata": {},
     "output_type": "display_data"
    },
    {
     "data": {
      "text/plain": [
       "2957"
      ]
     },
     "metadata": {},
     "output_type": "display_data"
    },
    {
     "data": {
      "text/plain": [
       "24654"
      ]
     },
     "metadata": {},
     "output_type": "display_data"
    },
    {
     "data": {
      "text/plain": [
       "26734"
      ]
     },
     "metadata": {},
     "output_type": "display_data"
    },
    {
     "data": {
      "text/plain": [
       "26734"
      ]
     },
     "metadata": {},
     "output_type": "display_data"
    }
   ],
   "source": [
    "# Sanity checking dataframe lengths. Not everything cons\n",
    "display(len(meeting_data))\n",
    "display(len(agenda_data))\n",
    "display(len(voting_data))\n",
    "display(len(merged))\n",
    "display(len(dataset))"
   ]
  },
  {
   "cell_type": "code",
   "execution_count": 13,
   "id": "45b8d75d-53a6-4fb8-adf0-00a1e52941c6",
   "metadata": {},
   "outputs": [
    {
     "data": {
      "text/plain": [
       "meetingId                                                            24391\n",
       "meetingCd                                                        2024.CC23\n",
       "meetingStartDate                                             1731474000000\n",
       "meetingEndDate                                               1731560400000\n",
       "meetingSpecialFlag                                                   False\n",
       "meetingYear                                                           2024\n",
       "meetingUrl               https://secure.toronto.ca/council/api/individu...\n",
       "itemId                                                              136759\n",
       "itemCd                                                         2024.RM23.1\n",
       "itemCategory                                               Routine Matters\n",
       "itemTitle                                                    Call to Order\n",
       "itemConsiderType                                                    ACTION\n",
       "itemStatus                                                         ADOPTED\n",
       "itemNativeStatus                                                   ADOPTED\n",
       "itemWards                                                              All\n",
       "itemInCameraFlag                                                     False\n",
       "itemStatutoryFlag                                                    False\n",
       "itemConsiderStartTime                                        1731508627000\n",
       "itemUrl                  https://secure.toronto.ca/council/agenda-item....\n",
       "itemVoteFlag                                                          True\n",
       "itemVoteType                                                           NaN\n",
       "itemVoteDescription                                                    NaN\n",
       "itemVoteResult                                                         NaN\n",
       "voteId                                                                 NaN\n",
       "voterName                                                              NaN\n",
       "vote                                                                   NaN\n",
       "Name: 0, dtype: object"
      ]
     },
     "execution_count": 13,
     "metadata": {},
     "output_type": "execute_result"
    }
   ],
   "source": [
    "dataset.iloc[0]"
   ]
  },
  {
   "cell_type": "code",
   "execution_count": 14,
   "id": "5a8f7cbb-ac54-45a6-b60e-c7ea458b8929",
   "metadata": {},
   "outputs": [
    {
     "data": {
      "text/plain": [
       "meetingId                  int64\n",
       "meetingCd                 object\n",
       "meetingStartDate           int64\n",
       "meetingEndDate             int64\n",
       "meetingSpecialFlag          bool\n",
       "meetingYear                int64\n",
       "meetingUrl                object\n",
       "itemId                     int64\n",
       "itemCd                    object\n",
       "itemCategory              object\n",
       "itemTitle                 object\n",
       "itemConsiderType          object\n",
       "itemStatus                object\n",
       "itemNativeStatus          object\n",
       "itemWards                 object\n",
       "itemInCameraFlag            bool\n",
       "itemStatutoryFlag           bool\n",
       "itemConsiderStartTime      int64\n",
       "itemUrl                   object\n",
       "itemVoteFlag                bool\n",
       "itemVoteType              object\n",
       "itemVoteDescription       object\n",
       "itemVoteResult            object\n",
       "voteId                   float64\n",
       "voterName                 object\n",
       "vote                      object\n",
       "dtype: object"
      ]
     },
     "execution_count": 14,
     "metadata": {},
     "output_type": "execute_result"
    }
   ],
   "source": [
    "dataset.dtypes"
   ]
  },
  {
   "cell_type": "markdown",
   "id": "48d444f4-bcf0-4fc0-96bc-e9e42c8371f3",
   "metadata": {},
   "source": [
    "## Adding Video Data"
   ]
  },
  {
   "cell_type": "markdown",
   "id": "cd813367-5079-4c8d-a132-cdb54d9228a9",
   "metadata": {},
   "source": [
    "Before doing anything, define some helper functions that will be useful"
   ]
  },
  {
   "cell_type": "code",
   "execution_count": 21,
   "id": "4128bc84-d901-4b6a-bc4f-41ea6e5d0f35",
   "metadata": {},
   "outputs": [],
   "source": [
    "def get_video_duration(vidpath: Path): \n",
    "    \"\"\" Returns the length of a video \"\"\"\n",
    "    try:\n",
    "        probe = ffmpeg.probe(vidpath, v=\"error\", show_entries=\"format=duration\")\n",
    "        duration = float(probe[\"format\"][\"duration\"])\n",
    "        return duration\n",
    "    except ffmpeg.Error as e:\n",
    "        print(e.stderr.decode())\n",
    "        return None\n",
    "\n",
    "def closest_different(lst, x, mode=\"smaller\"): \n",
    "    \"\"\" Find the closest different element in a list \"\"\"\n",
    "    lst = sorted(lst)\n",
    "\n",
    "    if mode==\"smaller\":\n",
    "        i = bisect.bisect_left(lst, x)\n",
    "        return lst[i-1] if i > 0 else lst[0]\n",
    "    elif mode==\"bigger\": \n",
    "        i = bisect.bisect_right(lst, x)\n",
    "        return lst[i+1] if i < len(lst) - 1 else lst[-1]\n",
    "    else: \n",
    "        raise ValueError(\"mode must be 'bigger' or 'smaller'\")\n",
    "    \n",
    "def clip_video(inpath: Path, outpath: Path, start: int, end: int):\n",
    "    \"\"\" Clips a video using ffmpeg \"\"\"\n",
    "    outpath = str(outpath)\n",
    "\n",
    "    print(f\"Clipping {inpath.stem} to {outpath} on {start}-{end}\")\n",
    "    try:\n",
    "        ffmpeg.input(inpath, ss=start, to=end).output(outpath, c=\"copy\").run(overwrite_output=True, capture_stdout=True, capture_stderr=True)\n",
    "    except ffmpeg.Error as e: \n",
    "        print(e.stderr.decode())\n",
    "\n",
    "def concat_videos(v1, v2, outpath: Path):\n",
    "    \"\"\" Concatenates two video files using demux \"\"\"\n",
    "\n",
    "    if v1.parent != v2.parent: \n",
    "        raise ValueError(\"Input files must be in the same directory\")\n",
    "    \n",
    "    tmp_file = v1.parent / \"filelist.txt\"\n",
    "    \n",
    "    with open(tmp_file, \"w\") as f:\n",
    "        f.write(f\"file '{v1.name}'\\nfile '{v2.name}'\\n\")\n",
    "\n",
    "    outpath = str(outpath)\n",
    "\n",
    "    #concat video\n",
    "    try:\n",
    "        ffmpeg.input(tmp_file, format='concat', safe=0).output(outpath, c='copy').run(overwrite_output=True, capture_stdout=True, capture_stderr=True)\n",
    "    except ffmpeg.Error as e:\n",
    "        print(e.stderr.decode())\n",
    "\n",
    "    #remove temp files\n",
    "    tmp_file.unlink()   \n",
    "\n",
    "    "
   ]
  },
  {
   "cell_type": "markdown",
   "id": "7cfcd46b-06ee-4e2f-b243-12b9331046e7",
   "metadata": {},
   "source": [
    "### Downloading video data"
   ]
  },
  {
   "cell_type": "markdown",
   "id": "582a8777-43d4-4a9d-9571-a272224c2417",
   "metadata": {},
   "source": [
    "First we need to extract all unique meetings. I use groupby and just keep the first elements (since the agenda items don't actually matter here), I then drop any column related to voting"
   ]
  },
  {
   "cell_type": "code",
   "execution_count": 16,
   "id": "db96879e-3dfc-40c1-964b-3b29f40b66de",
   "metadata": {},
   "outputs": [],
   "source": [
    "meeting_df = dataset.copy()\n",
    "meeting_df = meeting_df.groupby(\"meetingId\", as_index=False).first()\n",
    "\n",
    "# Drop unecessary \n",
    "meeting_df = meeting_df[[c for c in meeting_df.columns if \"item\" not in c]]\n",
    "meeting_df = meeting_df[[c for c in meeting_df.columns if \"vote\" not in c]]"
   ]
  },
  {
   "cell_type": "markdown",
   "id": "56d5d74f-be5c-48fd-9953-1eb7dd259e04",
   "metadata": {},
   "source": [
    "To make my life simpler, I will only look at the three most recent meetings"
   ]
  },
  {
   "cell_type": "code",
   "execution_count": 17,
   "id": "479a85d5-be5e-4321-8f31-4395e6445f2f",
   "metadata": {},
   "outputs": [
    {
     "data": {
      "text/html": [
       "<div>\n",
       "<style scoped>\n",
       "    .dataframe tbody tr th:only-of-type {\n",
       "        vertical-align: middle;\n",
       "    }\n",
       "\n",
       "    .dataframe tbody tr th {\n",
       "        vertical-align: top;\n",
       "    }\n",
       "\n",
       "    .dataframe thead th {\n",
       "        text-align: right;\n",
       "    }\n",
       "</style>\n",
       "<table border=\"1\" class=\"dataframe\">\n",
       "  <thead>\n",
       "    <tr style=\"text-align: right;\">\n",
       "      <th></th>\n",
       "      <th>meetingId</th>\n",
       "      <th>meetingCd</th>\n",
       "      <th>meetingStartDate</th>\n",
       "      <th>meetingEndDate</th>\n",
       "      <th>meetingSpecialFlag</th>\n",
       "      <th>meetingYear</th>\n",
       "      <th>meetingUrl</th>\n",
       "    </tr>\n",
       "  </thead>\n",
       "  <tbody>\n",
       "    <tr>\n",
       "      <th>18</th>\n",
       "      <td>24391</td>\n",
       "      <td>2024.CC23</td>\n",
       "      <td>1731474000000</td>\n",
       "      <td>1731560400000</td>\n",
       "      <td>False</td>\n",
       "      <td>2024</td>\n",
       "      <td>https://secure.toronto.ca/council/api/individu...</td>\n",
       "    </tr>\n",
       "    <tr>\n",
       "      <th>17</th>\n",
       "      <td>24390</td>\n",
       "      <td>2024.CC22</td>\n",
       "      <td>1728446400000</td>\n",
       "      <td>1728532800000</td>\n",
       "      <td>False</td>\n",
       "      <td>2024</td>\n",
       "      <td>https://secure.toronto.ca/council/api/individu...</td>\n",
       "    </tr>\n",
       "    <tr>\n",
       "      <th>20</th>\n",
       "      <td>24393</td>\n",
       "      <td>2024.CC21</td>\n",
       "      <td>1725508800000</td>\n",
       "      <td>1725508800000</td>\n",
       "      <td>True</td>\n",
       "      <td>2024</td>\n",
       "      <td>https://secure.toronto.ca/council/api/individu...</td>\n",
       "    </tr>\n",
       "  </tbody>\n",
       "</table>\n",
       "</div>"
      ],
      "text/plain": [
       "    meetingId  meetingCd  meetingStartDate  meetingEndDate  \\\n",
       "18      24391  2024.CC23     1731474000000   1731560400000   \n",
       "17      24390  2024.CC22     1728446400000   1728532800000   \n",
       "20      24393  2024.CC21     1725508800000   1725508800000   \n",
       "\n",
       "    meetingSpecialFlag  meetingYear  \\\n",
       "18               False         2024   \n",
       "17               False         2024   \n",
       "20                True         2024   \n",
       "\n",
       "                                           meetingUrl  \n",
       "18  https://secure.toronto.ca/council/api/individu...  \n",
       "17  https://secure.toronto.ca/council/api/individu...  \n",
       "20  https://secure.toronto.ca/council/api/individu...  "
      ]
     },
     "execution_count": 17,
     "metadata": {},
     "output_type": "execute_result"
    }
   ],
   "source": [
    "meeting_df = meeting_df.sort_values(\"meetingStartDate\", ascending=False).iloc[0:3]\n",
    "meeting_df"
   ]
  },
  {
   "cell_type": "markdown",
   "id": "28a87a50-4679-40b9-894b-48a28625abf9",
   "metadata": {},
   "source": [
    "Then we loop through all meetings and download the corresponding videos"
   ]
  },
  {
   "cell_type": "code",
   "execution_count": 18,
   "id": "07d32fb0-cc9d-42f9-8e19-7450ebf67053",
   "metadata": {},
   "outputs": [],
   "source": [
    "output_dir = Path(\"./full_videos/\")\n",
    "output_dir.mkdir(parents=True, exist_ok=True)"
   ]
  },
  {
   "cell_type": "code",
   "execution_count": null,
   "id": "44651206-f717-4630-8a63-bfd8f3841151",
   "metadata": {},
   "outputs": [
    {
     "name": "stdout",
     "output_type": "stream",
     "text": [
      "[download]  37.5% of    1.18GiB at   15.45MiB/s ETA 00:48   "
     ]
    }
   ],
   "source": [
    "for _, r in meeting_df.iterrows():\n",
    "    response = requests.get(r[\"meetingUrl\"])\n",
    "    meeting_json = response.json()\n",
    "\n",
    "    for video in meeting_json[\"Record\"][\"videoArchives\"]:\n",
    "        start = video[\"startDateTime\"]\n",
    "        \n",
    "        video_url = video[\"url\"]\n",
    "\n",
    "        # Get the end time of the video\n",
    "        ydl_opts = {\n",
    "            'format': 'worst',\n",
    "            'quiet': True,\n",
    "            'no_warnings': False,\n",
    "            # Extract metadata first without downloading\n",
    "            'skip_download': True\n",
    "        }\n",
    "        with yt_dlp.YoutubeDL(ydl_opts) as ydl: \n",
    "                info = ydl.extract_info(video_url, download=False)\n",
    "                duration = info.get('duration')  # Duration in seconds\n",
    "\n",
    "        end = start + duration*1000\n",
    "\n",
    "        # Download and name the files\n",
    "        ydl_opts.update({\n",
    "            'skip_download': False,\n",
    "            'outtmpl': f\"{str(output_dir)}/{r[\"meetingId\"]}-{start}-{end}.%(ext)s\"\n",
    "        })\n",
    "\n",
    "        with yt_dlp.YoutubeDL(ydl_opts) as ydl: \n",
    "            ydl.download([video_url])\n",
    "        "
   ]
  },
  {
   "cell_type": "markdown",
   "id": "0603e082-0a01-4a72-9a99-aaf794f7756f",
   "metadata": {},
   "source": [
    "### Splitting and labelling video data\n",
    "The videos have been downloaded, but they are full videos! The tricky thing is cutting them to match the agenda items.\n",
    "\n",
    "First, we get a dataframe of all agenda items that have consideration start times (i.e. they show up in the youtube videos)."
   ]
  },
  {
   "cell_type": "code",
   "execution_count": 18,
   "id": "9d769dfd-d1c5-4d8e-95af-7116773065f1",
   "metadata": {},
   "outputs": [],
   "source": [
    "subset_ids = meeting_df[\"meetingId\"].to_list()\n",
    "item_df = dataset[dataset[\"meetingId\"].isin(subset_ids)].copy()\n",
    "\n",
    "# We don't need any vote information,\n",
    "item_df = item_df.groupby(\"itemId\", as_index=False).first()\n",
    "item_df = item_df[[c for c in item_df.columns if \"vote\" not in c]]\n",
    "\n",
    "# We don't need to consider items that don't show up in the youtube videos\n",
    "item_df = item_df[item_df[\"itemConsiderStartTime\"] > 0].copy()"
   ]
  },
  {
   "cell_type": "markdown",
   "id": "69f4fdcd-3789-4fe0-a0b7-3a9454e6afff",
   "metadata": {},
   "source": [
    "The next step is to loop through every meeting and cut the videos according to agenda items"
   ]
  },
  {
   "cell_type": "code",
   "execution_count": 19,
   "id": "17b3f9e7-5674-49cb-93e1-ecc62f9ae5bd",
   "metadata": {},
   "outputs": [],
   "source": [
    "input_dir = Path(\"./full_videos/\")\n",
    "\n",
    "output_dir = Path(\"./agenda_clips/\")\n",
    "output_dir.mkdir(exist_ok=True)"
   ]
  },
  {
   "cell_type": "code",
   "execution_count": null,
   "id": "c714fe05-3ef1-4902-9b0f-26097c543dfc",
   "metadata": {},
   "outputs": [
    {
     "data": {
      "application/vnd.jupyter.widget-view+json": {
       "model_id": "eb568fc694be4a749c0962a4f01c026e",
       "version_major": 2,
       "version_minor": 0
      },
      "text/plain": [
       "  0%|          | 0/3 [00:00<?, ?it/s]"
      ]
     },
     "metadata": {},
     "output_type": "display_data"
    },
    {
     "data": {
      "application/vnd.jupyter.widget-view+json": {
       "model_id": "fc28e4d838b74e0ebe8a130d643c82fb",
       "version_major": 2,
       "version_minor": 0
      },
      "text/plain": [
       "  0%|          | 0/77 [00:00<?, ?it/s]"
      ]
     },
     "metadata": {},
     "output_type": "display_data"
    },
    {
     "name": "stdout",
     "output_type": "stream",
     "text": [
      "(136502, '2024.RM22.1', 1728481191000)\n",
      "Clipping 24390-1728480600000-1728490489000 to agenda_clips\\136502-2024.RM22.1-1728481191000.mp4 on 591-2085\n",
      "(136508, '2024.RM22.6', 1728481426000)\n",
      "Clipping 24390-1728480600000-1728490489000 to agenda_clips\\136508-2024.RM22.6-1728481426000.mp4 on 826-2120\n",
      "(136503, '2024.RM22.2', 1728482685000)\n",
      "Clipping 24390-1728480600000-1728490489000 to agenda_clips\\136503-2024.RM22.2-1728482685000.mp4 on 2085-3061\n",
      "(136505, '2024.RM22.3', 1728482720000)\n",
      "Clipping 24390-1728480600000-1728490489000 to agenda_clips\\136505-2024.RM22.3-1728482720000.mp4 on 2120-3077\n",
      "(136506, '2024.RM22.4', 1728483661000)\n",
      "Clipping 24390-1728480600000-1728490489000 to agenda_clips\\136506-2024.RM22.4-1728483661000.mp4 on 3061-3089\n",
      "(136507, '2024.RM22.5', 1728483677000)\n",
      "Clipping 24390-1728480600000-1728490489000 to agenda_clips\\136507-2024.RM22.5-1728483677000.mp4 on 3077-4180\n",
      "(136509, '2024.RM22.7', 1728483689000)\n",
      "Clipping 24390-1728480600000-1728490489000 to tmp\\c1.mp4 on 3089-9889\n",
      "Clipping 24390-1728496800000-1728510915000 to tmp\\c2.mp4 on 0-10976\n",
      "(136947, '2024.EX17.5', 1728484780000)\n",
      "Clipping 24390-1728480600000-1728490489000 to tmp\\c1.mp4 on 4180-9889\n",
      "Clipping 24390-1728496800000-1728510915000 to tmp\\c2.mp4 on 0-11842\n",
      "(136118, '2024.EC14.11', 1728507776000)\n",
      "Clipping 24390-1728496800000-1728510915000 to agenda_clips\\136118-2024.EC14.11-1728507776000.mp4 on 10976-11877\n",
      "(136883, '2024.TE16.4', 1728508642000)\n",
      "Clipping 24390-1728496800000-1728510915000 to agenda_clips\\136883-2024.TE16.4-1728508642000.mp4 on 11842-11886\n",
      "(136934, '2024.CC22.12', 1728508677000)\n",
      "Clipping 24390-1728496800000-1728510915000 to agenda_clips\\136934-2024.CC22.12-1728508677000.mp4 on 11877-11941\n",
      "(136894, '2024.TE16.13', 1728508686000)\n",
      "Clipping 24390-1728496800000-1728510915000 to agenda_clips\\136894-2024.TE16.13-1728508686000.mp4 on 11886-12017\n",
      "(136690, '2024.HL16.9', 1728508741000)\n",
      "Clipping 24390-1728496800000-1728510915000 to agenda_clips\\136690-2024.HL16.9-1728508741000.mp4 on 11941-12226\n",
      "(136976, '2024.GG16.12', 1728508817000)\n",
      "Clipping 24390-1728496800000-1728510915000 to agenda_clips\\136976-2024.GG16.12-1728508817000.mp4 on 12017-12269\n",
      "(136954, '2024.EX17.14', 1728509026000)\n",
      "Clipping 24390-1728496800000-1728510915000 to agenda_clips\\136954-2024.EX17.14-1728509026000.mp4 on 12226-12403\n",
      "(136821, '2024.EY16.11', 1728509069000)\n",
      "Clipping 24390-1728496800000-1728510915000 to agenda_clips\\136821-2024.EY16.11-1728509069000.mp4 on 12269-12519\n",
      "(136884, '2024.TE16.5', 1728509203000)\n",
      "Clipping 24390-1728496800000-1728510915000 to agenda_clips\\136884-2024.TE16.5-1728509203000.mp4 on 12403-12519\n",
      "(136920, '2024.IE16.2', 1728509319000)\n",
      "Clipping 24390-1728496800000-1728510915000 to tmp\\c1.mp4 on 12519-14115\n",
      "Clipping 24390-1728567000000-1728599635000 to tmp\\c2.mp4 on 0-1382\n",
      "(136922, '2024.IE16.4', 1728509319000)\n",
      "Clipping 24390-1728496800000-1728510915000 to tmp\\c1.mp4 on 12519-14115\n",
      "Clipping 24390-1728567000000-1728599635000 to tmp\\c2.mp4 on 0-1382\n"
     ]
    }
   ],
   "source": [
    "for m_id, i_df in tqdm(item_df.groupby(\"meetingId\"), leave=False):\n",
    "    \n",
    "    # Get all relevant agenda items and sort them earliest to latest\n",
    "    items = list(zip(i_df[\"itemId\"], i_df[\"itemCd\"], i_df[\"itemConsiderStartTime\"]))\n",
    "    items.sort(key=lambda x: x[2])\n",
    "\n",
    "    # Collect metadata of relevant videos\n",
    "    vid_files = {}\n",
    "    for f in input_dir.glob(f\"{m_id}*.mp4\"):\n",
    "        metadata = f.stem.split(\"-\") # meetingId-startTime-endTime\n",
    "        vid_files[int(metadata[1])] = {\n",
    "            \"path\": f,\n",
    "            \"end_time\": int(metadata[2])\n",
    "        }\n",
    "\n",
    "    # loop through all items\n",
    "    for j, item in enumerate(tqdm(items, leave=False)):\n",
    "        print(item)\n",
    "\n",
    "        # Get the video the agenda item starts in\n",
    "        item_start = item[2]\n",
    "        v1_start = closest_different(vid_files.keys(), item_start)\n",
    "        v1_file = vid_files[v1_start][\"path\"]\n",
    "        \n",
    "        # Get the video the agenda item ends in\n",
    "        if j == len(items)-1: # if its the last agenda item of the meeting then the end is just the end of the videos\n",
    "            v2_start = sorted(vid_files.keys())[-1]\n",
    "            item_end = vid_files[v2_start][\"end_time\"] \n",
    "        else: # otherwise the end time is the start time of the next item\n",
    "            item_end = closest_different([x[2] for x in items], item[2], mode=\"bigger\")\n",
    "            v2_start = closest_different(vid_files.keys(), item_end)\n",
    "        v2_file = vid_files[v2_start][\"path\"]\n",
    "\n",
    "            \n",
    "        # Clip (/concat) the videos as needed\n",
    "        if v2_file != v1_file: # if the starting and ending files are not the same, they both need to be clipped and then combined\n",
    "            v1_end = vid_files[v1_start][\"end_time\"]\n",
    "\n",
    "            # Convert from datetime milliseconds to the reference frame of the video\n",
    "            clip_1 = (item_start - v1_start, v1_end - v1_start)\n",
    "            clip_2 = (0, item_end - v2_start)      \n",
    "\n",
    "            clip_1 = tuple(int(x / 1000) for x in clip_1)\n",
    "            clip_2 = tuple(int(x / 1000) for x in clip_2)\n",
    "\n",
    "            # Make temporary clip files\n",
    "            tmp_dir = Path(\"./tmp/\")\n",
    "            tmp_dir.mkdir(exist_ok=True)\n",
    "\n",
    "            c1_file = tmp_dir / f\"c1{v1_file.suffix}\"\n",
    "            c2_file = tmp_dir / f\"c2{v2_file.suffix}\"\n",
    "            \n",
    "            clip_video(v1_file, c1_file, clip_1[0], clip_1[1])\n",
    "            clip_video(v2_file, c2_file, clip_2[0], clip_2[1])\n",
    "\n",
    "            # Concatenate clips\n",
    "            output_file = output_dir / f\"{item[0]}-{item[1]}-{item[2]}{v1_file.suffix}\"\n",
    "            concat_videos(c1_file, c2_file, output_file)\n",
    "\n",
    "            # Delete temp files\n",
    "            c1_file.unlink()\n",
    "            c2_file.unlink()\n",
    "            \n",
    "        else: # simply clip the video\n",
    "            # Convert from datetime milliseconds to the reference frame of the video\n",
    "            clip = (item_start - v1_start, item_end - v1_start)\n",
    "            clip = tuple(int(x/1000) for x in clip)\n",
    "            \n",
    "            \n",
    "            output_file = output_dir / f\"{item[0]}-{item[1]}-{item[2]}{v1_file.suffix}\"\n",
    "            clip_video(v1_file, output_file, clip[0], clip[1])\n",
    "            "
   ]
  },
  {
   "cell_type": "markdown",
   "id": "6b87a5bf-3fda-42ff-81a6-5a2ad8f25977",
   "metadata": {},
   "source": [
    "### Checking clip lengths"
   ]
  },
  {
   "cell_type": "code",
   "execution_count": 6,
   "id": "a34156d8-07eb-4d9a-ab67-dcc9082dce11",
   "metadata": {},
   "outputs": [
    {
     "name": "stdout",
     "output_type": "stream",
     "text": [
      "agenda_clips\\136118-2024.EC14.11-1728507776000.mp4\n"
     ]
    },
    {
     "ename": "FileNotFoundError",
     "evalue": "[WinError 2] The system cannot find the file specified",
     "output_type": "error",
     "traceback": [
      "\u001b[1;31m---------------------------------------------------------------------------\u001b[0m",
      "\u001b[1;31mFileNotFoundError\u001b[0m                         Traceback (most recent call last)",
      "Cell \u001b[1;32mIn[6], line 3\u001b[0m\n\u001b[0;32m      1\u001b[0m \u001b[38;5;28;01mfor\u001b[39;00m file \u001b[38;5;129;01min\u001b[39;00m Path(\u001b[38;5;124m\"\u001b[39m\u001b[38;5;124m./agenda_clips/\u001b[39m\u001b[38;5;124m\"\u001b[39m)\u001b[38;5;241m.\u001b[39mglob(\u001b[38;5;124m\"\u001b[39m\u001b[38;5;124m*.mp4\u001b[39m\u001b[38;5;124m\"\u001b[39m): \n\u001b[0;32m      2\u001b[0m     \u001b[38;5;28mprint\u001b[39m(file)\n\u001b[1;32m----> 3\u001b[0m     probe \u001b[38;5;241m=\u001b[39m \u001b[43mffmpeg\u001b[49m\u001b[38;5;241;43m.\u001b[39;49m\u001b[43mprobe\u001b[49m\u001b[43m(\u001b[49m\u001b[43mfile\u001b[49m\u001b[43m)\u001b[49m\n\u001b[0;32m      5\u001b[0m     duration \u001b[38;5;241m=\u001b[39m \u001b[38;5;28mfloat\u001b[39m(probe[\u001b[38;5;124m'\u001b[39m\u001b[38;5;124mformat\u001b[39m\u001b[38;5;124m'\u001b[39m][\u001b[38;5;124m'\u001b[39m\u001b[38;5;124mduration\u001b[39m\u001b[38;5;124m'\u001b[39m]) \u001b[38;5;241m/\u001b[39m \u001b[38;5;241m60\u001b[39m\n\u001b[0;32m      7\u001b[0m     \u001b[38;5;28mprint\u001b[39m(\u001b[38;5;124mf\u001b[39m\u001b[38;5;124m\"\u001b[39m\u001b[38;5;124mVideo duration: \u001b[39m\u001b[38;5;132;01m{\u001b[39;00mduration\u001b[38;5;132;01m}\u001b[39;00m\u001b[38;5;124m seconds\u001b[39m\u001b[38;5;124m\"\u001b[39m)\n",
      "File \u001b[1;32m~\\miniconda3\\envs\\gemini\\Lib\\site-packages\\ffmpeg\\_probe.py:20\u001b[0m, in \u001b[0;36mprobe\u001b[1;34m(filename, cmd, **kwargs)\u001b[0m\n\u001b[0;32m     17\u001b[0m args \u001b[38;5;241m+\u001b[39m\u001b[38;5;241m=\u001b[39m convert_kwargs_to_cmd_line_args(kwargs)\n\u001b[0;32m     18\u001b[0m args \u001b[38;5;241m+\u001b[39m\u001b[38;5;241m=\u001b[39m [filename]\n\u001b[1;32m---> 20\u001b[0m p \u001b[38;5;241m=\u001b[39m \u001b[43msubprocess\u001b[49m\u001b[38;5;241;43m.\u001b[39;49m\u001b[43mPopen\u001b[49m\u001b[43m(\u001b[49m\u001b[43margs\u001b[49m\u001b[43m,\u001b[49m\u001b[43m \u001b[49m\u001b[43mstdout\u001b[49m\u001b[38;5;241;43m=\u001b[39;49m\u001b[43msubprocess\u001b[49m\u001b[38;5;241;43m.\u001b[39;49m\u001b[43mPIPE\u001b[49m\u001b[43m,\u001b[49m\u001b[43m \u001b[49m\u001b[43mstderr\u001b[49m\u001b[38;5;241;43m=\u001b[39;49m\u001b[43msubprocess\u001b[49m\u001b[38;5;241;43m.\u001b[39;49m\u001b[43mPIPE\u001b[49m\u001b[43m)\u001b[49m\n\u001b[0;32m     21\u001b[0m out, err \u001b[38;5;241m=\u001b[39m p\u001b[38;5;241m.\u001b[39mcommunicate()\n\u001b[0;32m     22\u001b[0m \u001b[38;5;28;01mif\u001b[39;00m p\u001b[38;5;241m.\u001b[39mreturncode \u001b[38;5;241m!=\u001b[39m \u001b[38;5;241m0\u001b[39m:\n",
      "File \u001b[1;32m~\\miniconda3\\envs\\gemini\\Lib\\subprocess.py:1036\u001b[0m, in \u001b[0;36mPopen.__init__\u001b[1;34m(self, args, bufsize, executable, stdin, stdout, stderr, preexec_fn, close_fds, shell, cwd, env, universal_newlines, startupinfo, creationflags, restore_signals, start_new_session, pass_fds, user, group, extra_groups, encoding, errors, text, umask, pipesize, process_group)\u001b[0m\n\u001b[0;32m   1032\u001b[0m         \u001b[38;5;28;01mif\u001b[39;00m \u001b[38;5;28mself\u001b[39m\u001b[38;5;241m.\u001b[39mtext_mode:\n\u001b[0;32m   1033\u001b[0m             \u001b[38;5;28mself\u001b[39m\u001b[38;5;241m.\u001b[39mstderr \u001b[38;5;241m=\u001b[39m io\u001b[38;5;241m.\u001b[39mTextIOWrapper(\u001b[38;5;28mself\u001b[39m\u001b[38;5;241m.\u001b[39mstderr,\n\u001b[0;32m   1034\u001b[0m                     encoding\u001b[38;5;241m=\u001b[39mencoding, errors\u001b[38;5;241m=\u001b[39merrors)\n\u001b[1;32m-> 1036\u001b[0m     \u001b[38;5;28;43mself\u001b[39;49m\u001b[38;5;241;43m.\u001b[39;49m\u001b[43m_execute_child\u001b[49m\u001b[43m(\u001b[49m\u001b[43margs\u001b[49m\u001b[43m,\u001b[49m\u001b[43m \u001b[49m\u001b[43mexecutable\u001b[49m\u001b[43m,\u001b[49m\u001b[43m \u001b[49m\u001b[43mpreexec_fn\u001b[49m\u001b[43m,\u001b[49m\u001b[43m \u001b[49m\u001b[43mclose_fds\u001b[49m\u001b[43m,\u001b[49m\n\u001b[0;32m   1037\u001b[0m \u001b[43m                        \u001b[49m\u001b[43mpass_fds\u001b[49m\u001b[43m,\u001b[49m\u001b[43m \u001b[49m\u001b[43mcwd\u001b[49m\u001b[43m,\u001b[49m\u001b[43m \u001b[49m\u001b[43menv\u001b[49m\u001b[43m,\u001b[49m\n\u001b[0;32m   1038\u001b[0m \u001b[43m                        \u001b[49m\u001b[43mstartupinfo\u001b[49m\u001b[43m,\u001b[49m\u001b[43m \u001b[49m\u001b[43mcreationflags\u001b[49m\u001b[43m,\u001b[49m\u001b[43m \u001b[49m\u001b[43mshell\u001b[49m\u001b[43m,\u001b[49m\n\u001b[0;32m   1039\u001b[0m \u001b[43m                        \u001b[49m\u001b[43mp2cread\u001b[49m\u001b[43m,\u001b[49m\u001b[43m \u001b[49m\u001b[43mp2cwrite\u001b[49m\u001b[43m,\u001b[49m\n\u001b[0;32m   1040\u001b[0m \u001b[43m                        \u001b[49m\u001b[43mc2pread\u001b[49m\u001b[43m,\u001b[49m\u001b[43m \u001b[49m\u001b[43mc2pwrite\u001b[49m\u001b[43m,\u001b[49m\n\u001b[0;32m   1041\u001b[0m \u001b[43m                        \u001b[49m\u001b[43merrread\u001b[49m\u001b[43m,\u001b[49m\u001b[43m \u001b[49m\u001b[43merrwrite\u001b[49m\u001b[43m,\u001b[49m\n\u001b[0;32m   1042\u001b[0m \u001b[43m                        \u001b[49m\u001b[43mrestore_signals\u001b[49m\u001b[43m,\u001b[49m\n\u001b[0;32m   1043\u001b[0m \u001b[43m                        \u001b[49m\u001b[43mgid\u001b[49m\u001b[43m,\u001b[49m\u001b[43m \u001b[49m\u001b[43mgids\u001b[49m\u001b[43m,\u001b[49m\u001b[43m \u001b[49m\u001b[43muid\u001b[49m\u001b[43m,\u001b[49m\u001b[43m \u001b[49m\u001b[43mumask\u001b[49m\u001b[43m,\u001b[49m\n\u001b[0;32m   1044\u001b[0m \u001b[43m                        \u001b[49m\u001b[43mstart_new_session\u001b[49m\u001b[43m,\u001b[49m\u001b[43m \u001b[49m\u001b[43mprocess_group\u001b[49m\u001b[43m)\u001b[49m\n\u001b[0;32m   1045\u001b[0m \u001b[38;5;28;01mexcept\u001b[39;00m:\n\u001b[0;32m   1046\u001b[0m     \u001b[38;5;66;03m# Cleanup if the child failed starting.\u001b[39;00m\n\u001b[0;32m   1047\u001b[0m     \u001b[38;5;28;01mfor\u001b[39;00m f \u001b[38;5;129;01min\u001b[39;00m \u001b[38;5;28mfilter\u001b[39m(\u001b[38;5;28;01mNone\u001b[39;00m, (\u001b[38;5;28mself\u001b[39m\u001b[38;5;241m.\u001b[39mstdin, \u001b[38;5;28mself\u001b[39m\u001b[38;5;241m.\u001b[39mstdout, \u001b[38;5;28mself\u001b[39m\u001b[38;5;241m.\u001b[39mstderr)):\n",
      "File \u001b[1;32m~\\miniconda3\\envs\\gemini\\Lib\\subprocess.py:1548\u001b[0m, in \u001b[0;36mPopen._execute_child\u001b[1;34m(self, args, executable, preexec_fn, close_fds, pass_fds, cwd, env, startupinfo, creationflags, shell, p2cread, p2cwrite, c2pread, c2pwrite, errread, errwrite, unused_restore_signals, unused_gid, unused_gids, unused_uid, unused_umask, unused_start_new_session, unused_process_group)\u001b[0m\n\u001b[0;32m   1546\u001b[0m \u001b[38;5;66;03m# Start the process\u001b[39;00m\n\u001b[0;32m   1547\u001b[0m \u001b[38;5;28;01mtry\u001b[39;00m:\n\u001b[1;32m-> 1548\u001b[0m     hp, ht, pid, tid \u001b[38;5;241m=\u001b[39m \u001b[43m_winapi\u001b[49m\u001b[38;5;241;43m.\u001b[39;49m\u001b[43mCreateProcess\u001b[49m\u001b[43m(\u001b[49m\u001b[43mexecutable\u001b[49m\u001b[43m,\u001b[49m\u001b[43m \u001b[49m\u001b[43margs\u001b[49m\u001b[43m,\u001b[49m\n\u001b[0;32m   1549\u001b[0m \u001b[43m                             \u001b[49m\u001b[38;5;66;43;03m# no special security\u001b[39;49;00m\n\u001b[0;32m   1550\u001b[0m \u001b[43m                             \u001b[49m\u001b[38;5;28;43;01mNone\u001b[39;49;00m\u001b[43m,\u001b[49m\u001b[43m \u001b[49m\u001b[38;5;28;43;01mNone\u001b[39;49;00m\u001b[43m,\u001b[49m\n\u001b[0;32m   1551\u001b[0m \u001b[43m                             \u001b[49m\u001b[38;5;28;43mint\u001b[39;49m\u001b[43m(\u001b[49m\u001b[38;5;129;43;01mnot\u001b[39;49;00m\u001b[43m \u001b[49m\u001b[43mclose_fds\u001b[49m\u001b[43m)\u001b[49m\u001b[43m,\u001b[49m\n\u001b[0;32m   1552\u001b[0m \u001b[43m                             \u001b[49m\u001b[43mcreationflags\u001b[49m\u001b[43m,\u001b[49m\n\u001b[0;32m   1553\u001b[0m \u001b[43m                             \u001b[49m\u001b[43menv\u001b[49m\u001b[43m,\u001b[49m\n\u001b[0;32m   1554\u001b[0m \u001b[43m                             \u001b[49m\u001b[43mcwd\u001b[49m\u001b[43m,\u001b[49m\n\u001b[0;32m   1555\u001b[0m \u001b[43m                             \u001b[49m\u001b[43mstartupinfo\u001b[49m\u001b[43m)\u001b[49m\n\u001b[0;32m   1556\u001b[0m \u001b[38;5;28;01mfinally\u001b[39;00m:\n\u001b[0;32m   1557\u001b[0m     \u001b[38;5;66;03m# Child is launched. Close the parent's copy of those pipe\u001b[39;00m\n\u001b[0;32m   1558\u001b[0m     \u001b[38;5;66;03m# handles that only the child should have open.  You need\u001b[39;00m\n\u001b[1;32m   (...)\u001b[0m\n\u001b[0;32m   1561\u001b[0m     \u001b[38;5;66;03m# pipe will not close when the child process exits and the\u001b[39;00m\n\u001b[0;32m   1562\u001b[0m     \u001b[38;5;66;03m# ReadFile will hang.\u001b[39;00m\n\u001b[0;32m   1563\u001b[0m     \u001b[38;5;28mself\u001b[39m\u001b[38;5;241m.\u001b[39m_close_pipe_fds(p2cread, p2cwrite,\n\u001b[0;32m   1564\u001b[0m                          c2pread, c2pwrite,\n\u001b[0;32m   1565\u001b[0m                          errread, errwrite)\n",
      "\u001b[1;31mFileNotFoundError\u001b[0m: [WinError 2] The system cannot find the file specified"
     ]
    }
   ],
   "source": [
    "for file in Path(\"./agenda_clips/\").glob(\"*.mp4\"): \n",
    "    print(file)\n",
    "    probe = ffmpeg.probe(file)\n",
    "\n",
    "    duration = float(probe['format']['duration']) / 60\n",
    "\n",
    "    print(f\"Video duration: {duration} seconds\")"
   ]
  },
  {
   "cell_type": "code",
   "execution_count": null,
   "id": "419d0b9c-ea3a-488f-99bf-16fbf7ed0526",
   "metadata": {},
   "outputs": [],
   "source": []
  }
 ],
 "metadata": {
  "kernelspec": {
   "display_name": "Python 3 (ipykernel)",
   "language": "python",
   "name": "python3"
  },
  "language_info": {
   "codemirror_mode": {
    "name": "ipython",
    "version": 3
   },
   "file_extension": ".py",
   "mimetype": "text/x-python",
   "name": "python",
   "nbconvert_exporter": "python",
   "pygments_lexer": "ipython3",
   "version": "3.13.0"
  }
 },
 "nbformat": 4,
 "nbformat_minor": 5
}
