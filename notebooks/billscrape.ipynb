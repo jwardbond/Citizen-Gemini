{
 "cells": [
  {
   "cell_type": "code",
   "execution_count": 1,
   "id": "be5b0565-b64f-4ee7-b5c6-92d7e56c4ac7",
   "metadata": {},
   "outputs": [],
   "source": [
    "import requests\n",
    "import re\n",
    "from bs4 import BeautifulSoup\n",
    "from urllib.parse import urljoin\n",
    "import pandas as pd\n",
    "import json\n",
    "\n",
    "import pathlib\n",
    "import sys\n",
    "\n",
    "parent_dir = pathlib.Path.cwd().parent\n",
    "sys.path.append(str(parent_dir))"
   ]
  },
  {
   "cell_type": "markdown",
   "id": "ef2d9fcc-e255-406e-a8a4-0e66117a10a3",
   "metadata": {},
   "source": [
    "# Getting Bills"
   ]
  },
  {
   "cell_type": "code",
   "execution_count": 2,
   "id": "a9f8ad12-a5ea-4c68-bf14-38e5f3a06c1a",
   "metadata": {},
   "outputs": [],
   "source": [
    "from olascrape import summarize"
   ]
  },
  {
   "cell_type": "code",
   "execution_count": 3,
   "id": "80dc846e-4769-4778-9ca9-ed0fbe110895",
   "metadata": {},
   "outputs": [],
   "source": [
    "with open(\"../documents.json\") as f: \n",
    "    docs = json.load(f)"
   ]
  },
  {
   "cell_type": "code",
   "execution_count": 4,
   "id": "bb14b1d7-f6c6-4976-a521-dda97b5198f9",
   "metadata": {},
   "outputs": [],
   "source": [
    "summaries = summarize(docs)\n",
    "\n",
    "with open(\"summaries.json\", \"w\") as f:\n",
    "    json.dump(summaries, f)"
   ]
  },
  {
   "cell_type": "code",
   "execution_count": 8,
   "id": "62991c5a-26d8-4d39-9698-6f4b3005a4dd",
   "metadata": {},
   "outputs": [
    {
     "data": {
      "text/plain": [
       "True"
      ]
     },
     "execution_count": 8,
     "metadata": {},
     "output_type": "execute_result"
    }
   ],
   "source": [
    "len(summaries.keys()) == len(docs.keys())"
   ]
  },
  {
   "cell_type": "code",
   "execution_count": 10,
   "id": "87032115-c1c5-44cf-8b43-685ed1885907",
   "metadata": {},
   "outputs": [
    {
     "data": {
      "text/plain": [
       "'bill-174 -- Bill 174 | Title: Supply Act, 2024 | Sponsor: Mulroney, Hon. Caroline President of the Treasury Board | Current status: Royal Assent received. Statutes of Ontario 2024, chapter 4'"
      ]
     },
     "execution_count": 10,
     "metadata": {},
     "output_type": "execute_result"
    }
   ],
   "source": [
    "summaries[\"bill-174\"]"
   ]
  },
  {
   "cell_type": "code",
   "execution_count": 11,
   "id": "73a70270-b4be-4577-8e7f-7db8a8c0d658",
   "metadata": {},
   "outputs": [],
   "source": [
    "with open(\"summaries.json\") as f:\n",
    "    test = json.load(f)"
   ]
  },
  {
   "cell_type": "code",
   "execution_count": 13,
   "id": "f932e238-bc04-49d4-b741-c51603c6a6a1",
   "metadata": {},
   "outputs": [
    {
     "data": {
      "text/plain": [
       "dict_keys(['bill-1', 'bill-2', 'bill-3', 'bill-4', 'bill-5', 'bill-6', 'bill-7', 'bill-8', 'bill-9', 'bill-10', 'bill-11', 'bill-12', 'bill-13', 'bill-14', 'bill-15', 'bill-16', 'bill-17', 'bill-18', 'bill-19', 'bill-20', 'bill-21', 'bill-22', 'bill-23', 'bill-24', 'bill-25', 'bill-26', 'bill-27', 'bill-28', 'bill-29', 'bill-30', 'bill-31', 'bill-32', 'bill-33', 'bill-34', 'bill-35', 'bill-36', 'bill-37', 'bill-38', 'bill-39', 'bill-40', 'bill-41', 'bill-42', 'bill-43', 'bill-44', 'bill-45', 'bill-46', 'bill-47', 'bill-48', 'bill-49', 'bill-50', 'bill-51', 'bill-52', 'bill-53', 'bill-54', 'bill-55', 'bill-56', 'bill-57', 'bill-58', 'bill-59', 'bill-60', 'bill-61', 'bill-62', 'bill-63', 'bill-64', 'bill-65', 'bill-66', 'bill-67', 'bill-68', 'bill-69', 'bill-70', 'bill-71', 'bill-72', 'bill-73', 'bill-74', 'bill-75', 'bill-76', 'bill-77', 'bill-78', 'bill-79', 'bill-80', 'bill-81', 'bill-82', 'bill-83', 'bill-84', 'bill-85', 'bill-86', 'bill-87', 'bill-88', 'bill-89', 'bill-90', 'bill-91', 'bill-92', 'bill-93', 'bill-94', 'bill-95', 'bill-96', 'bill-97', 'bill-98', 'bill-99', 'bill-100', 'bill-101', 'bill-102', 'bill-103', 'bill-104', 'bill-105', 'bill-106', 'bill-107', 'bill-108', 'bill-109', 'bill-110', 'bill-111', 'bill-112', 'bill-113', 'bill-114', 'bill-115', 'bill-116', 'bill-117', 'bill-118', 'bill-119', 'bill-120', 'bill-121', 'bill-122', 'bill-123', 'bill-124', 'bill-125', 'bill-126', 'bill-127', 'bill-128', 'bill-129', 'bill-130', 'bill-131', 'bill-132', 'bill-133', 'bill-134', 'bill-135', 'bill-136', 'bill-137', 'bill-138', 'bill-139', 'bill-140', 'bill-141', 'bill-142', 'bill-143', 'bill-144', 'bill-145', 'bill-146', 'bill-147', 'bill-148', 'bill-149', 'bill-150', 'bill-151', 'bill-152', 'bill-153', 'bill-154', 'bill-155', 'bill-156', 'bill-157', 'bill-158', 'bill-159', 'bill-160', 'bill-161', 'bill-162', 'bill-163', 'bill-164', 'bill-165', 'bill-166', 'bill-167', 'bill-168', 'bill-169', 'bill-170', 'bill-171', 'bill-172', 'bill-173', 'bill-174', 'bill-175', 'bill-176', 'bill-177', 'bill-178', 'bill-179', 'bill-180', 'bill-181', 'bill-182', 'bill-183', 'bill-184', 'bill-185', 'bill-186', 'bill-187', 'bill-188', 'bill-189', 'bill-190', 'bill-191', 'bill-192', 'bill-193', 'bill-194', 'bill-195', 'bill-196', 'bill-197', 'bill-198', 'bill-199', 'bill-200', 'bill-201', 'bill-202', 'bill-203', 'bill-204', 'bill-205', 'bill-206', 'bill-207', 'bill-208', 'bill-209', 'bill-210', 'bill-211', 'bill-212', 'bill-213', 'bill-214', 'bill-215', 'bill-216', 'bill-217', 'bill-218', 'bill-219', 'bill-220', 'bill-221', 'bill-222', 'bill-223', 'bill-224', 'bill-225', 'bill-226', 'bill-227', 'tr-2024-10-23', 'tr-2022-09-07', 'tr-2024-04-24', 'tr-2022-11-22', 'tr-2023-12-04', 'tr-2024-04-15', 'tr-2024-05-09', 'tr-2024-06-06', 'tr-2024-05-07', 'tr-2023-10-31', 'tr-2023-05-30', 'tr-2024-06-05', 'tr-2023-02-27', 'tr-2023-03-01', 'tr-2024-11-07', 'tr-2023-09-26', 'tr-2023-03-06', 'tr-2023-11-14', 'tr-2023-12-06', 'tr-2022-09-06', 'tr-2022-08-11', 'tr-2023-12-05', 'tr-2023-10-26', 'tr-2024-05-28', 'tr-2022-11-01', 'tr-2022-08-22', 'tr-2022-10-31', 'tr-2022-10-27', 'tr-2024-04-16', 'tr-2023-10-03', 'tr-2023-05-10', 'tr-2024-11-21', 'tr-2023-03-27', 'tr-2023-03-02', 'tr-2024-11-20', 'tr-2024-06-04', 'tr-2024-10-28', 'tr-2022-11-02', 'tr-2022-08-09', 'tr-2023-10-16', 'tr-2024-02-20', 'tr-2022-12-07', 'tr-2023-05-29', 'tr-2024-04-23', 'tr-2023-10-18', 'tr-2023-03-07', 'tr-2023-09-25', 'tr-2024-03-05', 'tr-2023-02-22', 'tr-2022-11-24', 'tr-2024-04-17', 'tr-2023-04-18', 'tr-2023-03-28', 'tr-2024-02-22', 'tr-2023-11-28', 'tr-2023-11-20', 'tr-2023-04-25', 'tr-2024-02-29', 'tr-2022-11-16', 'tr-2024-05-27', 'tr-2023-11-21', 'tr-2023-05-31', 'tr-2022-11-29', 'tr-2024-03-20', 'tr-2022-10-25', 'tr-2023-06-06', 'tr-2024-04-09', 'tr-2023-04-26', 'tr-2023-04-17', 'tr-2023-06-05', 'tr-2023-04-03', 'tr-2024-04-08', 'tr-2022-08-30', 'tr-2024-03-26', 'tr-2023-09-28', 'tr-2022-09-14', 'tr-2023-03-08', 'tr-2024-03-07', 'tr-2024-02-28', 'tr-2022-12-08', 'tr-2024-10-21', 'tr-2023-10-30', 'tr-2023-10-19', 'tr-2023-05-18', 'tr-2023-11-16', 'tr-2022-11-23', 'tr-2024-02-26', 'tr-2024-11-19', 'tr-2022-08-08', 'tr-2023-03-09', 'tr-2022-08-18', 'tr-2024-03-18', 'tr-2023-10-24', 'tr-2023-11-15', 'tr-2024-02-27', 'tr-2024-05-14', 'tr-2022-11-03', 'tr-2023-03-22', 'tr-2024-06-03', 'tr-2024-10-22', 'tr-2024-03-21', 'tr-2023-03-23', 'tr-2022-08-23', 'tr-2022-08-25', 'tr-2023-04-04', 'tr-2024-11-04', 'tr-2024-10-29', 'tr-2023-05-16', 'tr-2022-12-01', 'tr-2023-04-19', 'tr-2022-11-21', 'tr-2024-05-15', 'tr-2024-03-25', 'tr-2024-03-06', 'tr-2023-03-30', 'tr-2023-02-21', 'tr-2023-04-27', 'tr-2022-09-01', 'tr-2024-05-16', 'tr-2022-10-26', 'tr-2023-10-17', 'tr-2024-11-18', 'tr-2023-10-25', 'tr-2022-08-29', 'tr-2022-12-05', 'tr-2023-06-01', 'tr-2023-05-09', 'tr-2023-11-29', 'tr-2024-03-19', 'tr-2023-09-27', 'tr-2022-11-28', 'tr-2023-10-04', 'tr-2024-04-10', 'tr-2023-05-08', 'tr-2023-04-24', 'tr-2024-03-27', 'tr-2024-05-06', 'tr-2023-11-30', 'tr-2023-04-20', 'tr-2022-08-17', 'tr-2024-05-29', 'tr-2024-05-13', 'tr-2024-05-30', 'tr-2024-11-05', 'tr-2023-10-05', 'tr-2022-11-15', 'tr-2023-03-29', 'tr-2023-04-06', 'tr-2023-03-21', 'tr-2022-11-30', 'tr-2024-04-11', 'tr-2024-03-28', 'tr-2023-11-27', 'tr-2022-08-31', 'tr-2024-04-25', 'tr-2024-05-08', 'tr-2023-11-22', 'tr-2023-11-01', 'tr-2023-06-08', 'tr-2022-08-10', 'tr-2022-08-24', 'tr-2022-09-08', 'tr-2024-03-04', 'tr-2023-06-07', 'tr-2024-04-22', 'tr-2024-02-21', 'tr-2023-11-23', 'tr-2024-10-30', 'tr-2023-05-11', 'tr-2024-10-31', 'tr-2022-12-06', 'tr-2023-02-28', 'tr-2023-04-05', 'tr-2024-10-24', 'tr-2022-11-14', 'tr-2023-05-17', 'tr-2023-02-23', 'tr-2023-03-20', 'tr-2022-11-17', 'tr-2024-11-06', 'tr-2024-04-18', 'tr-2023-05-15', 'tr-2023-11-02', 'tr-2023-10-23'])"
      ]
     },
     "execution_count": 13,
     "metadata": {},
     "output_type": "execute_result"
    }
   ],
   "source": [
    "test.keys()"
   ]
  },
  {
   "cell_type": "code",
   "execution_count": null,
   "id": "cdd4a91b-c664-4b36-8f14-123b270d23db",
   "metadata": {},
   "outputs": [],
   "source": []
  }
 ],
 "metadata": {
  "kernelspec": {
   "display_name": "Python 3 (ipykernel)",
   "language": "python",
   "name": "python3"
  },
  "language_info": {
   "codemirror_mode": {
    "name": "ipython",
    "version": 3
   },
   "file_extension": ".py",
   "mimetype": "text/x-python",
   "name": "python",
   "nbconvert_exporter": "python",
   "pygments_lexer": "ipython3",
   "version": "3.13.0"
  }
 },
 "nbformat": 4,
 "nbformat_minor": 5
}
