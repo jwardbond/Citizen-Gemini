{
 "cells": [
  {
   "cell_type": "code",
   "execution_count": 4,
   "id": "be5b0565-b64f-4ee7-b5c6-92d7e56c4ac7",
   "metadata": {},
   "outputs": [],
   "source": [
    "import requests\n",
    "import re\n",
    "from bs4 import BeautifulSoup\n",
    "from urllib.parse import urljoin\n",
    "import pandas as pd\n",
    "import json"
   ]
  },
  {
   "cell_type": "markdown",
   "id": "ef2d9fcc-e255-406e-a8a4-0e66117a10a3",
   "metadata": {},
   "source": [
    "# Getting Bills"
   ]
  },
  {
   "cell_type": "code",
   "execution_count": 58,
   "id": "c3aace9e-bb8d-4bb1-a512-5f4cc94878af",
   "metadata": {},
   "outputs": [],
   "source": [
    "# Base URL for the Hansard documents page\n",
    "BILL_BASE_URL = \"https://www.ola.org/en/legislative-business/bills/parliament-43/session-1/\""
   ]
  },
  {
   "cell_type": "code",
   "execution_count": 59,
   "id": "20200b3b-9a4c-4fcc-a6b5-13c3949a3947",
   "metadata": {},
   "outputs": [],
   "source": [
    "def get_bill_names():\n",
    "    response = requests.get(BILL_BASE_URL)\n",
    "    soup = BeautifulSoup(response.text, \"html.parser\")\n",
    "\n",
    "    elements = soup.find_all(\"td\", class_=\"views-field views-field-field-bill-number\")\n",
    "    bills = [f\"bill-{x.get_text(strip=True)}\" for x in elements]\n",
    "    return bills\n",
    "\n",
    "def fetch_bill_contents(bill):\n",
    "    url = BILL_BASE_URL + bill\n",
    "\n",
    "    response = requests.get(url)\n",
    "    soup = BeautifulSoup(response.text, \"html.parser\")\n",
    "\n",
    "    status = (\n",
    "        soup.find(\"p\", class_=re.compile(\"views-field-field-current-status*\"))\n",
    "        .get_text(strip=True)\n",
    "        .replace(\"\\n\", \"\")\n",
    "        .replace(\"\\t\", \"\")\n",
    "        .replace(\"   \", \" \")\n",
    "    )\n",
    "    try:\n",
    "        if \"out of order\" in status.lower():\n",
    "            sponsor = \"Withdrawn\"\n",
    "            text = soup.findAll(\"p\")[1].get_text().replace(\"\\r\\n\", \" \")\n",
    "            text = \"\\n\\n\" + text\n",
    "        else:\n",
    "            sponsor = (\n",
    "                soup.find(\"div\", class_=\"views-field-field-member\")\n",
    "                .get_text()\n",
    "                .replace(\"\\n\", \"\")\n",
    "            )\n",
    "            text = (\n",
    "                soup.find(\"div\", class_=\"WordSection1\").get_text().replace(\"\\r\\n\", \" \")\n",
    "            )\n",
    "        return f\"sponsor: {sponsor}\\n{status}{text}\"\n",
    "    except AttributeError as e:\n",
    "        print(url, \"\\n\", e)\n",
    "        return \"None\"\n"
   ]
  },
  {
   "cell_type": "code",
   "execution_count": 60,
   "id": "c044a4cb-bada-48e2-b0db-d0794a0ab7ae",
   "metadata": {},
   "outputs": [],
   "source": [
    "bills = get_bill_names()"
   ]
  },
  {
   "cell_type": "code",
   "execution_count": 61,
   "id": "e9008b7a-026b-4dcf-8303-941a7352b084",
   "metadata": {},
   "outputs": [],
   "source": [
    "bill_data = {b: {\"type\": \"bill\", \"contents\": fetch_bill_contents(b)} for b in bills}"
   ]
  },
  {
   "cell_type": "markdown",
   "id": "bb778a3b-35b1-44e9-a8c6-0d28c3a1871c",
   "metadata": {},
   "source": [
    "# Getting Hansards"
   ]
  },
  {
   "cell_type": "code",
   "execution_count": 5,
   "id": "e54e7b69-75e3-4c66-b8a9-7990316b7e39",
   "metadata": {},
   "outputs": [],
   "source": [
    "HANS_BASE_URL = \"https://www.ola.org/en/legislative-business/house-documents/parliament-43/session-1/\"\n",
    "DATE_PATTERN = r\"(\\d{4}-\\d{2}-\\d{2})\""
   ]
  },
  {
   "cell_type": "code",
   "execution_count": 53,
   "id": "63ef1aa6-fbbb-42a3-a5ca-7b030c185263",
   "metadata": {},
   "outputs": [],
   "source": [
    "def get_hansard_dates():\n",
    "    response = requests.get(HANS_BASE_URL)\n",
    "    soup = BeautifulSoup(response.text, \"html.parser\")\n",
    "    dates = {\n",
    "        re.search(DATE_PATTERN, urljoin(HANS_BASE_URL, link[\"href\"])).group(0)\n",
    "        for link in soup.find_all(\"a\", href=True)\n",
    "        if re.search(DATE_PATTERN, link[\"href\"])\n",
    "    }\n",
    "    return list(dates)\n",
    "\n",
    "\n",
    "def fetch_hansard_content(date):\n",
    "    content = {}\n",
    "    \n",
    "    # Links are like hansard, then hansard-1, hansard-2...\n",
    "    combined_content = \"\"\n",
    "    page_num = 0  # Using a separate variable to avoid overwriting the outer loop's index\n",
    "\n",
    "    while True:\n",
    "        suffix = f\"-{page_num}\" if page_num > 0 else \"\"\n",
    "        url = f\"{HANS_BASE_URL}{date}/hansard{suffix}\"\n",
    "\n",
    "        response = requests.get(url)\n",
    "        if response.status_code != 200:\n",
    "            break  # Stop if the page doesn't exist\n",
    "\n",
    "        # Parse and extract main content\n",
    "        soup = BeautifulSoup(response.text, \"html.parser\")\n",
    "        main_content = soup.find(\"div\",{\"id\": \"transcript\"})\n",
    "\n",
    "        if main_content:\n",
    "            combined_content += main_content.get_text(separator=\"\\n\")\n",
    "        else:\n",
    "            print(f\"Warning: Content not found on {url}\")\n",
    "\n",
    "        page_num += 1  # Move to the next page with suffix\n",
    "\n",
    "    combined_content = re.sub(r\"\\\\x[0-9a-fA-F]{2}\", \"\", combined_content)\n",
    "    combined_content = re.sub(r\"\\n\\n\", \"\\n\", combined_content)\n",
    "    combined_content = re.sub(r\"\\n{4,}\", \"\\n\\n\\n\", combined_content)\n",
    "    combined_content = re.sub(r\":\\n\", \":\", combined_content)\n",
    "\n",
    "\n",
    "    return combined_content"
   ]
  },
  {
   "cell_type": "code",
   "execution_count": 56,
   "id": "230e191e-2a5e-40bb-8c42-9f9144834583",
   "metadata": {},
   "outputs": [],
   "source": [
    "dates = get_hansard_dates()\n",
    "hans_data = {d: {\"type\": \"transcript\", \"text\": fetch_hansard_content(d)} for d in dates}"
   ]
  },
  {
   "cell_type": "code",
   "execution_count": null,
   "id": "60c7d9ab-9893-4a50-aa58-360d0946172a",
   "metadata": {},
   "outputs": [],
   "source": [
    "data = dict(bill_data, **hans_data)"
   ]
  },
  {
   "cell_type": "code",
   "execution_count": 66,
   "id": "51674505-98d3-4a61-bf4f-fd6f867b7f9f",
   "metadata": {},
   "outputs": [],
   "source": [
    "import json \n",
    "with open(\"documents.json\", \"w\") as f:\n",
    "    json.dump(data, f)"
   ]
  },
  {
   "cell_type": "code",
   "execution_count": null,
   "id": "a5bc71f0-6e7c-43d3-a331-b0d04422d0db",
   "metadata": {},
   "outputs": [],
   "source": []
  }
 ],
 "metadata": {
  "kernelspec": {
   "display_name": "Python 3 (ipykernel)",
   "language": "python",
   "name": "python3"
  },
  "language_info": {
   "codemirror_mode": {
    "name": "ipython",
    "version": 3
   },
   "file_extension": ".py",
   "mimetype": "text/x-python",
   "name": "python",
   "nbconvert_exporter": "python",
   "pygments_lexer": "ipython3",
   "version": "3.13.0"
  }
 },
 "nbformat": 4,
 "nbformat_minor": 5
}
